{
 "cells": [
  {
   "cell_type": "code",
   "execution_count": null,
   "id": "2112e8e8",
   "metadata": {
    "ExecuteTime": {
     "end_time": "2022-04-13T21:23:09.372615Z",
     "start_time": "2022-04-13T21:23:09.303280Z"
    }
   },
   "outputs": [],
   "source": [
    "from pgljupyter import *"
   ]
  },
  {
   "cell_type": "markdown",
   "id": "da3e0e17",
   "metadata": {},
   "source": [
    "# Trees"
   ]
  },
  {
   "cell_type": "code",
   "execution_count": null,
   "id": "8ef939f1",
   "metadata": {
    "ExecuteTime": {
     "end_time": "2021-10-07T14:21:04.824343Z",
     "start_time": "2021-10-07T14:21:04.813234Z"
    }
   },
   "outputs": [],
   "source": [
    "%%lpy -a True -w 10\n",
    "from random import randint, seed\n",
    "dl = 0.5\n",
    "ds = 0.1\n",
    "seed(0)\n",
    "\n",
    "module A\n",
    "Axiom: Elasticity(0.03) @Gc A\n",
    "production:\n",
    "derivation length: 4\n",
    "\n",
    "A:\n",
    "  nproduce /(137.5) Segment(1)\n",
    "  nblateralchild = randint(2, 4)\n",
    "  for i in range(nblateralchild):\n",
    "     nproduce [  /(i*360./nblateralchild) ^(60) A ]\n",
    "\n",
    "Segment(l) --> Segment(l+dl)\n",
    "interpretation:\n",
    "A --> [,(3) f(0.1) @O ]\n",
    "Segment(l) --> nF(l,ds)\n"
   ]
  },
  {
   "cell_type": "markdown",
   "id": "316a547b",
   "metadata": {},
   "source": [
    "## Positional Information"
   ]
  },
  {
   "cell_type": "code",
   "execution_count": null,
   "id": "61198c3f",
   "metadata": {
    "ExecuteTime": {
     "end_time": "2022-04-13T21:20:48.114423Z",
     "start_time": "2022-04-13T21:20:47.554554Z"
    }
   },
   "outputs": [],
   "source": [
    "from openalea.lpy.lsysparameters import *\n",
    "from openalea.plantgl.all import *"
   ]
  },
  {
   "cell_type": "code",
   "execution_count": null,
   "id": "402634d1",
   "metadata": {
    "ExecuteTime": {
     "end_time": "2022-04-13T21:22:51.974385Z",
     "start_time": "2022-04-13T21:22:51.965968Z"
    }
   },
   "outputs": [],
   "source": [
    "\n",
    "params = LsystemParameters()\n",
    "try:\n",
    "    params.load(open('fern.json'))\n",
    "except:\n",
    "    params.add_function('fern_width', NurbsCurve2D([(0,0.1,1),(1/3,1,1),(2/3,1,1),(1,0,1)]))\n",
    "    params.add_curve('fern_path')\n",
    "    params.add_curve('leaflet_path')\n",
    "    params.add_curve('leaflet_section', Polyline2D([(-0.5,0),(0.5,0)]))\n",
    "    params.add_function('leaflet_width', NurbsCurve2D([(0,0.1,1),(1/3,1,1),(2/3,1,1),(1,0,1)]))\n",
    "    params.add('nbleaflet', 20 , minvalue=1, maxvalue=40)\n"
   ]
  },
  {
   "cell_type": "code",
   "execution_count": null,
   "id": "03b80541",
   "metadata": {
    "ExecuteTime": {
     "end_time": "2022-04-13T21:24:16.830667Z",
     "start_time": "2022-04-13T21:24:16.689732Z"
    }
   },
   "outputs": [],
   "source": [
    "%%lpy -a True -w 20 -p params\n",
    "\n",
    "# expected graphical values\n",
    "extern(nbleaflet = 20)\n",
    "extern(fern_width = NurbsCurve2D([(0,0.1,1),(1/3,1,1),(2/3,1,1),(1,0,1)])) # function\n",
    "extern(fern_path = None) # curve\n",
    "extern(leaflet_path = None) # curve\n",
    "extern(leaflet_section = Polyline2D([(-0.5,0),(0.5,0)])) # curve\n",
    "extern(leaflet_width = NurbsCurve2D([(0,0.1,1),(1/3,1,1),(2/3,1,1),(1,0,1)])) # function\n",
    "\n",
    "l = 10\n",
    "dl = l/nbleaflet\n",
    "Axiom : ,(2) SetGuide(fern_path,l) A(0)\n",
    "\n",
    "derivation length: 100\n",
    "production:\n",
    "\n",
    "A(cl < l) --> F(dl)[&(90)/(90)L(fern_width(cl/l)*5)][/(180)&(90)/(-90)L(fern_width(cl/l)*5)]A(cl+dl)\n",
    "\n",
    "interpretation:\n",
    "L(ll) -->  Sweep(leaflet_path, leaflet_section, ll, 0.1, 0.5, leaflet_width) \n"
   ]
  },
  {
   "cell_type": "code",
   "execution_count": null,
   "id": "683c983c",
   "metadata": {},
   "outputs": [],
   "source": [
    "params.dump(open('fern.json','w'))"
   ]
  }
 ],
 "metadata": {
  "kernelspec": {
   "display_name": "Python 3 (ipykernel)",
   "language": "python",
   "name": "python3"
  },
  "language_info": {
   "codemirror_mode": {
    "name": "ipython",
    "version": 3
   },
   "file_extension": ".py",
   "mimetype": "text/x-python",
   "name": "python",
   "nbconvert_exporter": "python",
   "pygments_lexer": "ipython3",
   "version": "3.9.10"
  }
 },
 "nbformat": 4,
 "nbformat_minor": 5
}
