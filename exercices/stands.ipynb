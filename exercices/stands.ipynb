{
 "cells": [
  {
   "cell_type": "markdown",
   "metadata": {},
   "source": [
    "# Exercice: Create a random conifer stand"
   ]
  },
  {
   "cell_type": "code",
   "execution_count": null,
   "metadata": {
    "ExecuteTime": {
     "end_time": "2022-04-13T19:04:11.790196Z",
     "start_time": "2022-04-13T19:04:11.187502Z"
    }
   },
   "outputs": [],
   "source": [
    "from pgljupyter import SceneWidget\n",
    "from openalea.plantgl.all import *\n",
    "import random"
   ]
  },
  {
   "cell_type": "markdown",
   "metadata": {},
   "source": [
    "###  Create a function to generate a simple conifer shape\n",
    "\n",
    "Use the Cone(radius,height) primitive to generate a conifer shape"
   ]
  },
  {
   "cell_type": "code",
   "execution_count": null,
   "metadata": {
    "ExecuteTime": {
     "end_time": "2022-04-13T19:17:21.349196Z",
     "start_time": "2022-04-13T19:17:21.344729Z"
    }
   },
   "outputs": [],
   "source": [
    "green = Material((20,100,20))\n",
    "brown = Material((100,90,70))\n",
    "def conifer(x, y, height, trunkradiusratio = 0.05, trunkheigthratio = 0.2, crownradiusratio = 0.2):\n",
    "    return Scene([Shape(Translated(x,y,0, Cylinder(height*trunkradiusratio, height*trunkheigthratio)), brown), \n",
    "            Shape(Translated(x,y,height*trunkheigthratio, ... ), green)])"
   ]
  },
  {
   "cell_type": "markdown",
   "metadata": {},
   "source": [
    "### Generate the stand\n",
    "\n",
    "In the loop of 50, generate a x,y and heigth value using the random.uniform function using range (-100,100) for x,y and (10,20) for the height.\n",
    "Add the generated conifer shape to the stand scene using +="
   ]
  },
  {
   "cell_type": "code",
   "execution_count": null,
   "metadata": {
    "ExecuteTime": {
     "end_time": "2022-04-13T19:17:22.450432Z",
     "start_time": "2022-04-13T19:17:22.447602Z"
    },
    "scrolled": true
   },
   "outputs": [],
   "source": [
    "stand = Scene()\n",
    "\n",
    "for i in range(50):\n",
    "    ...\n"
   ]
  },
  {
   "cell_type": "markdown",
   "metadata": {},
   "source": [
    "### Display the stand\n",
    "\n",
    "Display the stand using the SceneWidget function.\n",
    "- Change the image size using size_display parameter\n",
    "- Change the scale of the world using size_world parameter\n",
    "- Display in wireframe using the right panel\n",
    "- Use autorotate function\n",
    "- Disable the plane"
   ]
  },
  {
   "cell_type": "code",
   "execution_count": null,
   "metadata": {
    "ExecuteTime": {
     "end_time": "2022-04-13T19:17:28.267823Z",
     "start_time": "2022-04-13T19:17:28.258937Z"
    }
   },
   "outputs": [],
   "source": [
    "SceneWidget(stand, size_display=(600, 400), size_world=255)"
   ]
  },
  {
   "cell_type": "code",
   "execution_count": null,
   "metadata": {},
   "outputs": [],
   "source": []
  }
 ],
 "metadata": {
  "kernelspec": {
   "display_name": "Python 3 (ipykernel)",
   "language": "python",
   "name": "python3"
  },
  "language_info": {
   "codemirror_mode": {
    "name": "ipython",
    "version": 3
   },
   "file_extension": ".py",
   "mimetype": "text/x-python",
   "name": "python",
   "nbconvert_exporter": "python",
   "pygments_lexer": "ipython3",
   "version": "3.9.9"
  }
 },
 "nbformat": 4,
 "nbformat_minor": 4
}
