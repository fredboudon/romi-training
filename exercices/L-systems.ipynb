{
 "cells": [
  {
   "cell_type": "markdown",
   "metadata": {},
   "source": [
    "# L-systems\n"
   ]
  },
  {
   "cell_type": "code",
   "execution_count": null,
   "metadata": {
    "ExecuteTime": {
     "end_time": "2022-04-13T21:26:02.929504Z",
     "start_time": "2022-04-13T21:26:02.863687Z"
    }
   },
   "outputs": [],
   "source": [
    "from pgljupyter import *"
   ]
  },
  {
   "cell_type": "markdown",
   "metadata": {
    "ExecuteTime": {
     "end_time": "2021-10-06T13:41:02.257628Z",
     "start_time": "2021-10-06T13:41:02.250438Z"
    }
   },
   "source": [
    "# Random trees\n",
    "\n",
    "Run the following model.\n",
    "Use Run, Animate and Step to simulate the model.\n",
    "- Change the size of the display to (800,400) [option -s]\n",
    "- Change the world size to 10 [option -w]\n",
    "- Launch the model in animation mode [option -a]\n",
    "\n",
    "Generate a tree such as a the end of each segment, a random number of lateral segment children (between 2 and 4) are generated.\n",
    "  - Insertion angle: 60\n",
    "  - Divergence angle between segments at the same node: proportionnal to number of segments i.e. 360/nb\n",
    "\n",
    "![randomtree](./img/randomtree.png)"
   ]
  },
  {
   "cell_type": "code",
   "execution_count": null,
   "metadata": {
    "ExecuteTime": {
     "end_time": "2022-04-13T20:39:51.867663Z",
     "start_time": "2022-04-13T20:39:51.857350Z"
    }
   },
   "outputs": [],
   "source": [
    "%%lpy \n",
    "from random import *\n",
    "module Segment\n",
    "dl = 0.5\n",
    "ds = 0.1\n",
    "Axiom: A\n",
    "\n",
    "derivation length: 6\n",
    "production:\n",
    "\n",
    "A --> Segment(1)[+(30) A][-(30) A]\n",
    "\n",
    "interpretation:\n",
    "\n",
    "A --> [,(3) @O(0.15) ]\n",
    "Segment(l) --> nF(l,ds)\n",
    "endlsystem"
   ]
  },
  {
   "cell_type": "markdown",
   "metadata": {},
   "source": [
    "## Broccoli\n",
    "\n",
    "Generate a broccoli shape:\n",
    "\n",
    "Each node has 4 lateral children internode and an apical one.\n",
    "   - Insertion angle for lateral: 40 \n",
    "   - 90 degree between each lateral children\n",
    "Width depends on the order of ramification\n",
    "Scaling factor of 0.5 between each order\n",
    "Finish structure with sphere with size double from terminal internode\n",
    "\n",
    "![broccoli](./img/broccoli.png)"
   ]
  },
  {
   "cell_type": "code",
   "execution_count": null,
   "metadata": {
    "ExecuteTime": {
     "end_time": "2021-10-06T16:28:11.971912Z",
     "start_time": "2021-10-06T16:28:11.954294Z"
    }
   },
   "outputs": [],
   "source": [
    "%%lpy -w 6 -a True\n",
    "a = 40\n",
    "def nextscale(s) :  return s/2.\n",
    "Axiom: ,(2) _(0.3) F(1, 0.25) A(1) \n",
    "production:\n",
    "derivation length:6\n",
    "A(s) :\n",
    "        produce A(nextscale(s))\n",
    "interpretation:\n",
    "A(s) --> @O(2*s)"
   ]
  },
  {
   "cell_type": "markdown",
   "metadata": {},
   "source": [
    "## Graphical parameters"
   ]
  },
  {
   "cell_type": "code",
   "execution_count": null,
   "metadata": {
    "ExecuteTime": {
     "end_time": "2022-04-13T21:25:58.608859Z",
     "start_time": "2022-04-13T21:25:58.006475Z"
    }
   },
   "outputs": [],
   "source": [
    "from openalea.lpy.lsysparameters import *\n",
    "from openalea.plantgl.all import *"
   ]
  },
  {
   "cell_type": "markdown",
   "metadata": {},
   "source": [
    "### Create an LsystemParameters object.\n",
    "\n",
    "Fill it with functions, curves and scalar defined in the header of the lsystem (extern command) in the cell after."
   ]
  },
  {
   "cell_type": "code",
   "execution_count": null,
   "metadata": {
    "ExecuteTime": {
     "end_time": "2022-04-13T21:25:58.818386Z",
     "start_time": "2022-04-13T21:25:58.815298Z"
    }
   },
   "outputs": [],
   "source": [
    "\n",
    "params = LsystemParameters()\n",
    "try:\n",
    "    params.load(open('integration.json'))\n",
    "except:\n",
    "    #params.add_function(name, defaultvalue)\n",
    "    #params.add_curve(name, defaultvalue)\n",
    "    #params.add_scalar(name, value, minvalue=minvalue, maxvalue=maxvalue)\n",
    "    pass\n"
   ]
  },
  {
   "cell_type": "code",
   "execution_count": null,
   "metadata": {
    "ExecuteTime": {
     "end_time": "2022-04-13T21:26:06.791612Z",
     "start_time": "2022-04-13T21:26:06.696260Z"
    }
   },
   "outputs": [],
   "source": [
    "%%lpy -a True -w 20 -p params\n",
    "\n",
    "# expected graphical values\n",
    "extern(nbleaflet = 20) # scalar in range [1,40]\n",
    "extern(fern_width = NurbsCurve2D([(0,0.1,1),(1/3,1,1),(2/3,1,1),(1,0,1)])) # function\n",
    "extern(fern_path = None) # curve\n",
    "extern(leaflet_path = None) # curve\n",
    "extern(leaflet_section = Polyline2D([(-0.5,0),(0.5,0)])) # curve\n",
    "extern(leaflet_width = NurbsCurve2D([(0,0.1,1),(1/3,1,1),(2/3,1,1),(1,0,1)])) # function\n",
    "\n",
    "l = 10\n",
    "dl = l/nbleaflet\n",
    "Axiom : ,(2) SetGuide(fern_path,l) A(0)\n",
    "\n",
    "derivation length: 100\n",
    "production:\n",
    "\n",
    "A(cl < l) --> F(dl)[&(90)/(90)L(fern_width(cl/l)*5)][/(180)&(90)/(-90)L(fern_width(cl/l)*5)]A(cl+dl)\n",
    "\n",
    "interpretation:\n",
    "L(ll) -->  Sweep(leaflet_path, leaflet_section, ll, 0.1, 0.5, leaflet_width) \n"
   ]
  },
  {
   "cell_type": "code",
   "execution_count": null,
   "metadata": {},
   "outputs": [],
   "source": [
    "params.dump(open('fern.json','w'))"
   ]
  }
 ],
 "metadata": {
  "kernelspec": {
   "display_name": "Python 3 (ipykernel)",
   "language": "python",
   "name": "python3"
  },
  "language_info": {
   "codemirror_mode": {
    "name": "ipython",
    "version": 3
   },
   "file_extension": ".py",
   "mimetype": "text/x-python",
   "name": "python",
   "nbconvert_exporter": "python",
   "pygments_lexer": "ipython3",
   "version": "3.9.12"
  }
 },
 "nbformat": 4,
 "nbformat_minor": 2
}
