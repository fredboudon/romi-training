{
 "cells": [
  {
   "cell_type": "code",
   "execution_count": null,
   "metadata": {
    "ExecuteTime": {
     "end_time": "2022-04-13T21:36:06.816708Z",
     "start_time": "2022-04-13T21:36:06.163990Z"
    }
   },
   "outputs": [],
   "source": [
    "from pgljupyter import LsystemWidget"
   ]
  },
  {
   "cell_type": "code",
   "execution_count": null,
   "metadata": {
    "ExecuteTime": {
     "end_time": "2022-04-13T21:36:09.760372Z",
     "start_time": "2022-04-13T21:36:09.332309Z"
    }
   },
   "outputs": [],
   "source": [
    "lw = LsystemWidget(\n",
    "    'leuwenberg.lpy',\n",
    "    unit='m',\n",
    "    size_display=(600, 400),\n",
    "    size_world=50,\n",
    "    animate=True\n",
    ")"
   ]
  },
  {
   "cell_type": "code",
   "execution_count": null,
   "metadata": {
    "ExecuteTime": {
     "end_time": "2022-04-13T21:36:09.766724Z",
     "start_time": "2022-04-13T21:36:09.761998Z"
    }
   },
   "outputs": [],
   "source": [
    "lw"
   ]
  },
  {
   "cell_type": "code",
   "execution_count": null,
   "metadata": {
    "ExecuteTime": {
     "end_time": "2022-04-13T21:36:12.609092Z",
     "start_time": "2022-04-13T21:36:12.248083Z"
    }
   },
   "outputs": [],
   "source": [
    "lw.editor"
   ]
  },
  {
   "cell_type": "code",
   "execution_count": null,
   "metadata": {},
   "outputs": [],
   "source": []
  }
 ],
 "metadata": {
  "kernelspec": {
   "display_name": "Python 3 (ipykernel)",
   "language": "python",
   "name": "python3"
  },
  "language_info": {
   "codemirror_mode": {
    "name": "ipython",
    "version": 3
   },
   "file_extension": ".py",
   "mimetype": "text/x-python",
   "name": "python",
   "nbconvert_exporter": "python",
   "pygments_lexer": "ipython3",
   "version": "3.9.10"
  }
 },
 "nbformat": 4,
 "nbformat_minor": 4
}
