{
 "cells": [
  {
   "cell_type": "markdown",
   "metadata": {},
   "source": [
    "## Integrate L-Py with xarray-simlab\n",
    "\n",
    "https://xarray-simlab.readthedocs.io"
   ]
  },
  {
   "cell_type": "markdown",
   "metadata": {},
   "source": [
    "### Write Lpy file and save it"
   ]
  },
  {
   "cell_type": "code",
   "execution_count": null,
   "metadata": {
    "ExecuteTime": {
     "end_time": "2022-04-13T22:09:07.828841Z",
     "start_time": "2022-04-13T22:09:07.818345Z"
    }
   },
   "outputs": [],
   "source": [
    "%%writefile .devel.lpy\n",
    "\n",
    "import matplotlib.pyplot as plt\n",
    "import matplotlib as mpl\n",
    "\n",
    "color = plt.cm.ScalarMappable(norm=mpl.colors.Normalize(vmin=0, vmax=nb_metamers), cmap=plt.cm.hsv)\n",
    "\n",
    "#################################\n",
    "\n",
    "from numpy import exp, linspace\n",
    "growth_logistic = lambda ttime, fsize: fsize / (1. + exp(-(ttime-5)/1.5 ))\n",
    "\n",
    "#################################\n",
    "\n",
    "extern(flush_delay = None)\n",
    "extern(nb_metamers = None)\n",
    "extern(step_delta = None)\n",
    "\n",
    "#################################\n",
    "\n",
    "module Metamer(t,leaf_size,internode_size)\n",
    "module Apex(t)\n",
    "\n",
    "#################################\n",
    "\n",
    "Axiom:  R Apex(ApexParams(t=0))\n",
    "\n",
    "derivation length: 1\n",
    "production:\n",
    "\n",
    "Apex(p) :\n",
    "    if (p.t % flush_delay) < step_delta and (p.t // flush_delay) < nb_metamers:  \n",
    "        nproduce Metamer(MetamerParams(t=0, leaf_size=0, internode_size=0))\n",
    "    produce Apex(p.set(t=p.t+step_delta))\n",
    "\n",
    "Metamer(p):\n",
    "    p.t += step_delta\n",
    "    p.leaf_size = growth_logistic(p.t, 10)\n",
    "    p.internode_size = growth_logistic(p.t,3)\n",
    "    produce Metamer(p)\n",
    "    \n",
    "interpretation:\n",
    "\n",
    "R --> _(0.3)@Gc SetColor(Material('green',(1,15,1),diffuse=10,specular=(0,0,0)))\n",
    "\n",
    "Metamer(p) :\n",
    "    l = p.leaf_size\n",
    "    r, g, b, a = map(lambda v : int(v*255), color.to_rgba(p.uid))\n",
    "    nproduce F(p.internode_size) /(137)[SetColor(r, g, b)_(0.1)&(min(80,float(p.t)*5))F(l/6)[+(90)/(-30)~l(l/2)][-(90)/(30)~l(l/2)]F(l/6)[+(60)/(-15)~l(l/2)][-(60)/(15)~l(l/2)]F(l/6)^(20)~l(l/2)]\n",
    "\n",
    "Apex(p) --> F(1) @O\n"
   ]
  },
  {
   "cell_type": "markdown",
   "metadata": {},
   "source": [
    "### Create an xarray-simlab processes from an Lpy model\n",
    "\n",
    "* __LpyDevel__, build lstring and scene and access computed variables "
   ]
  },
  {
   "cell_type": "markdown",
   "metadata": {},
   "source": [
    "### Create xarray-simlab model and simulation setup with the two processes"
   ]
  },
  {
   "cell_type": "code",
   "execution_count": null,
   "metadata": {
    "ExecuteTime": {
     "end_time": "2022-04-13T22:09:16.823346Z",
     "start_time": "2022-04-13T22:09:09.505481Z"
    }
   },
   "outputs": [],
   "source": [
    "import xsimlab as xs\n",
    "from lpy_simlab_process import xs_lpyprocess\n",
    "import numpy as np\n",
    "\n",
    "model = xs.Model({ 'devel': xs_lpyprocess('LpyDevel', '.devel.lpy') })\n",
    "ds = xs.create_setup(\n",
    "    model=model,\n",
    "    clocks={ 'time': np.linspace(0, 25, 250) },\n",
    "    input_vars={ 'devel': { 'flush_delay' : 4, 'nb_metamers' : 5 } },\n",
    "    output_vars={\n",
    "        'devel__Metamer_leaf_size': 'time',\n",
    "        'devel__Metamer_internode_size': 'time',\n",
    "        'devel__Apex_t': 'time',\n",
    "    }\n",
    ")\n",
    "model.visualize(show_inputs=True, show_variables=True)"
   ]
  },
  {
   "cell_type": "markdown",
   "metadata": {},
   "source": [
    "### Run the model and inspect results"
   ]
  },
  {
   "cell_type": "code",
   "execution_count": null,
   "metadata": {
    "ExecuteTime": {
     "end_time": "2022-04-13T22:09:28.143930Z",
     "start_time": "2022-04-13T22:09:21.539254Z"
    }
   },
   "outputs": [],
   "source": [
    "from lpy_simlab_process import xs_lpydisplay_hook\n",
    "\n",
    "ds_out = ds.xsimlab.run(model=model, hooks=xs_lpydisplay_hook('devel', scale = 1/30))\n",
    "ds_out"
   ]
  },
  {
   "cell_type": "markdown",
   "metadata": {},
   "source": [
    "### Plot output"
   ]
  },
  {
   "cell_type": "code",
   "execution_count": null,
   "metadata": {
    "ExecuteTime": {
     "end_time": "2022-04-13T22:09:43.018650Z",
     "start_time": "2022-04-13T22:09:42.892078Z"
    }
   },
   "outputs": [],
   "source": [
    "ds_out.devel__Metamer_leaf_size.plot.line(x='time');"
   ]
  },
  {
   "cell_type": "code",
   "execution_count": null,
   "metadata": {},
   "outputs": [],
   "source": []
  }
 ],
 "metadata": {
  "celltoolbar": "Aucun(e)",
  "kernelspec": {
   "display_name": "Python 3 (ipykernel)",
   "language": "python",
   "name": "python3"
  },
  "language_info": {
   "codemirror_mode": {
    "name": "ipython",
    "version": 3
   },
   "file_extension": ".py",
   "mimetype": "text/x-python",
   "name": "python",
   "nbconvert_exporter": "python",
   "pygments_lexer": "ipython3",
   "version": "3.9.12"
  }
 },
 "nbformat": 4,
 "nbformat_minor": 4
}
