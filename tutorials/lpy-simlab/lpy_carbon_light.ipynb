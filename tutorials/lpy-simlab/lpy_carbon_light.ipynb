{
 "cells": [
  {
   "cell_type": "markdown",
   "metadata": {},
   "source": [
    "### Write Lpy file and save it"
   ]
  },
  {
   "cell_type": "code",
   "execution_count": null,
   "metadata": {
    "ExecuteTime": {
     "end_time": "2022-04-13T22:10:07.748452Z",
     "start_time": "2022-04-13T22:10:06.863010Z"
    }
   },
   "outputs": [],
   "source": [
    "from openalea.plantgl.all import *\n",
    "from numpy import arange\n",
    "from math import *\n",
    "import numpy as np\n",
    "from util import *\n",
    "import matplotlib.pyplot as plt"
   ]
  },
  {
   "cell_type": "markdown",
   "metadata": {},
   "source": [
    "# Integrate L-Py with xarray-simlab\n",
    "\n",
    "https://xarray-simlab.readthedocs.io"
   ]
  },
  {
   "cell_type": "code",
   "execution_count": null,
   "metadata": {
    "ExecuteTime": {
     "end_time": "2022-04-13T22:10:08.202692Z",
     "start_time": "2022-04-13T22:10:07.880309Z"
    }
   },
   "outputs": [],
   "source": [
    "from openalea.lpy.lsysparameters import LsystemParameters\n",
    "strides = 10\n",
    "p1 = Polyline2D([(v,0) for v in arange(0,1.01,1/strides)])\n",
    "p2 = Polyline2D([(2*sin(a)/pi,2*(cos(a))/pi) for a in arange(0,pi/2+0.01,pi/(2*strides))])\n",
    "p3 = Polyline2D([(-0.5,0),(0,-0.1),(0.5,0)])\n",
    "rd = Polyline2D([(0,0.1),(0.7,1),(1,0.01)])\n",
    "\n",
    "lp = LsystemParameters()\n",
    "lp.add(name='strides', value=strides)\n",
    "lp.add_curve(name='path1', value=p1)\n",
    "lp.add_curve(name='path2', value=p2)\n",
    "lp.add_curve(name='section', value=p3)\n",
    "lp.add_function(name = 'radius', value=rd)\n",
    "lp.set_option('Turtle Path Optimization',0)"
   ]
  },
  {
   "cell_type": "code",
   "execution_count": null,
   "metadata": {
    "ExecuteTime": {
     "end_time": "2022-04-13T22:10:09.499410Z",
     "start_time": "2022-04-13T22:10:09.495065Z"
    }
   },
   "outputs": [],
   "source": [
    "%%writefile .lpydevel.lpy\n",
    "from openalea.plantgl.scenegraph.colormap import *\n",
    "from util import *\n",
    "from random import randint\n",
    "\n",
    "cmap = PglMaterialMap(0,25)\n",
    "\n",
    "extern(flush_delay = None)\n",
    "extern(nb_metamers = None)\n",
    "extern(step_delta = None)\n",
    "\n",
    "module Metamer(t, size, lighting, allocation)\n",
    "module Apex(t)\n",
    "Axiom:  _(0.3)@Gc SetColor(green) Apex(0)\n",
    "\n",
    "production:\n",
    "Apex(t) :\n",
    "    if (t % flush_delay) < step_delta and (t // flush_delay) < nb_metamers:\n",
    "        nproduce Metamer(MetamerParams(t=0, size=0.5)) /(180+randint(-10,10))\n",
    "    produce Apex(t+step_delta)\n",
    "\n",
    "Metamer(p):\n",
    "    p.t += step_delta\n",
    "    p.size += p.allocation \n",
    "    produce Metamer(p)\n",
    "interpretation:\n",
    "Apex(t) --> F(1) @O\n",
    "Metamer(p) :\n",
    "    l = p.size\n",
    "    nproduce F(l/3)  [SetColor(cmap(p.lighting)) _(0.1) \n",
    "    nproduce @Gc Sweep(interpolate(path1, path2, max(1,p.t/5)), section, l,l/strides, l/2, radius)]"
   ]
  },
  {
   "cell_type": "markdown",
   "metadata": {},
   "source": [
    "### Definition of the process from the lpy model"
   ]
  },
  {
   "cell_type": "code",
   "execution_count": null,
   "metadata": {
    "ExecuteTime": {
     "end_time": "2022-04-13T22:10:15.770301Z",
     "start_time": "2022-04-13T22:10:14.871590Z"
    }
   },
   "outputs": [],
   "source": [
    "import xsimlab as xs\n",
    "from lpy_simlab_process import xs_lpyprocess\n",
    "\n",
    "_ = xs_lpyprocess('LpyDevel', '.lpydevel.lpy', lp, modulestoconsider=['Metamer'], \n",
    "              globaldependencies={'Metamer_lighting' : 'light', 'Metamer_allocation' : 'carbon'} )"
   ]
  },
  {
   "cell_type": "markdown",
   "metadata": {},
   "source": [
    "### Definition of the light interception process"
   ]
  },
  {
   "cell_type": "code",
   "execution_count": null,
   "metadata": {
    "ExecuteTime": {
     "end_time": "2022-04-13T22:10:16.517676Z",
     "start_time": "2022-04-13T22:10:16.511556Z"
    }
   },
   "outputs": [],
   "source": [
    "@xs.process\n",
    "class Light():\n",
    "    # process input\n",
    "    Metamer = xs.foreign(LpyDevel, 'Metamer')\n",
    "    lscene = xs.foreign(LpyDevel, 'lscene')\n",
    "    lstring = xs.foreign(LpyDevel, 'lstring')\n",
    "    \n",
    "    # process output\n",
    "    Metamer_lighting = xs.variable(dims='Metamer', global_name='Metamer_lighting', intent='inout')\n",
    "    \n",
    "    @xs.runtime()\n",
    "    def run_step(self):\n",
    "        from openalea.plantgl.light import directionalInterception, diffuseInterception\n",
    "        #res = diffuseInterception(self.lscene)\n",
    "        res = directionalInterception(self.lscene, [(0,90,1)], screenresolution=0.1)\n",
    "        \n",
    "        self.Metamer_lighting = np.zeros(len(self.Metamer))\n",
    "        for k,v in res.items():\n",
    "            if self.lstring[k].name == 'Metamer':\n",
    "                self.Metamer_lighting[self.lstring[k][0].uid] = v"
   ]
  },
  {
   "cell_type": "markdown",
   "metadata": {},
   "source": [
    "### Definition of the carbon allocation process"
   ]
  },
  {
   "cell_type": "code",
   "execution_count": null,
   "metadata": {
    "ExecuteTime": {
     "end_time": "2022-04-13T22:10:19.999302Z",
     "start_time": "2022-04-13T22:10:19.991733Z"
    }
   },
   "outputs": [],
   "source": [
    "@xs.process\n",
    "class CarbonAllocation():\n",
    "    conv_rate = 0.01\n",
    "    res_conv_rate = 0.5\n",
    "\n",
    "    # process input\n",
    "    Metamer_t = xs.foreign(LpyDevel, 'Metamer_t')\n",
    "    Metamer_lighting = xs.foreign(Light, 'Metamer_lighting')\n",
    "        \n",
    "    # process output\n",
    "    Metamer_allocation = xs.variable(dims='Metamer', global_name='Metamer_allocation',  intent='inout')\n",
    "    Metamer_demand = xs.variable(dims='Metamer', intent='out')\n",
    "    reserves = xs.variable(intent='inout')\n",
    "    \n",
    "    @xs.runtime(args=['step_delta'])\n",
    "    def run_step(self, step_delta):\n",
    "        carbon = (self.Metamer_lighting * self.conv_rate) \n",
    "        self.Metamer_demand = growth_rate(np.array(self.Metamer_t))*step_delta\n",
    "        \n",
    "        autoallocated = np.minimum(carbon, self.Metamer_demand)      \n",
    "        demand = self.Metamer_demand - autoallocated\n",
    "        supply = carbon - autoallocated\n",
    "        \n",
    "        total_demand = sum(demand)\n",
    "        total_supply = sum(supply) + self.reserves\n",
    "        \n",
    "        ratio = min(1,total_supply/total_demand) if total_demand > 0 else 0\n",
    "        nreserves = (total_supply - total_demand*ratio) - self.reserves\n",
    "        self.reserves += nreserves if nreserves < 0 else nreserves*self.res_conv_rate\n",
    "        self.Metamer_allocation = autoallocated+demand*ratio"
   ]
  },
  {
   "cell_type": "markdown",
   "metadata": {},
   "source": [
    "### Create xarray-simlab model and simulation setup with the three processes"
   ]
  },
  {
   "cell_type": "code",
   "execution_count": null,
   "metadata": {
    "ExecuteTime": {
     "end_time": "2022-04-13T22:14:34.813970Z",
     "start_time": "2022-04-13T22:14:34.271602Z"
    }
   },
   "outputs": [],
   "source": [
    "model = xs.Model({ 'devel': LpyDevel  , 'light' : Light  , 'carbon' : CarbonAllocation  })\n",
    "model.visualize(show_inputs=False, show_variables=False)\n",
    "ds = xs.create_setup(\n",
    "    model=model,\n",
    "    clocks={ 'time': np.linspace(0, 20, 200) },\n",
    "    input_vars= LpyDevel.init_vars({ 'devel': { 'flush_delay' : 2, 'nb_metamers' : 5 },\n",
    "                                     'carbon' : { 'reserves' : 10 }}),\n",
    "    output_vars={ 'devel__Metamer_size': 'time',\n",
    "                  'light__Metamer_lighting': 'time',\n",
    "                  'carbon__Metamer_allocation': 'time',\n",
    "                  'carbon__reserves': 'time' })\n",
    "\n",
    "model.visualize(show_inputs=True, show_variables=True)"
   ]
  },
  {
   "cell_type": "markdown",
   "metadata": {},
   "source": [
    "### Run the model and inspect results"
   ]
  },
  {
   "cell_type": "code",
   "execution_count": null,
   "metadata": {
    "ExecuteTime": {
     "end_time": "2022-04-13T22:14:38.420304Z",
     "start_time": "2022-04-13T22:14:35.586628Z"
    }
   },
   "outputs": [],
   "source": [
    "from lpy_simlab_process import xs_lpydisplay_hook\n",
    "ds_out = ds.xsimlab.run(model=model, hooks=xs_lpydisplay_hook('devel', scale = 1/50, delay = 0.01))"
   ]
  },
  {
   "cell_type": "markdown",
   "metadata": {},
   "source": [
    "### Plot output"
   ]
  },
  {
   "cell_type": "code",
   "execution_count": null,
   "metadata": {
    "ExecuteTime": {
     "end_time": "2022-04-13T22:14:40.963885Z",
     "start_time": "2022-04-13T22:14:40.632642Z"
    }
   },
   "outputs": [],
   "source": [
    "plt.figure(figsize=(18,4))\n",
    "plt.subplot(1, 3, 1)\n",
    "ds_out.light__Metamer_lighting.plot.line(x='time')\n",
    "plt.subplot(1, 3, 2)\n",
    "ds_out.carbon__reserves.plot.line(x='time')\n",
    "plt.subplot(1, 3, 3)\n",
    "ds_out.carbon__Metamer_allocation.plot.line(x='time'); plt.show()"
   ]
  },
  {
   "cell_type": "code",
   "execution_count": null,
   "metadata": {},
   "outputs": [],
   "source": []
  }
 ],
 "metadata": {
  "celltoolbar": "Aucun(e)",
  "kernelspec": {
   "display_name": "Python 3 (ipykernel)",
   "language": "python",
   "name": "python3"
  },
  "language_info": {
   "codemirror_mode": {
    "name": "ipython",
    "version": 3
   },
   "file_extension": ".py",
   "mimetype": "text/x-python",
   "name": "python",
   "nbconvert_exporter": "python",
   "pygments_lexer": "ipython3",
   "version": "3.9.12"
  }
 },
 "nbformat": 4,
 "nbformat_minor": 4
}
